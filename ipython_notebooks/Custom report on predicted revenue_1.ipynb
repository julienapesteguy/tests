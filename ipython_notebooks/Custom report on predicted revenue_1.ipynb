{
  "metadata": {
    "kernelspec": {
      "display_name": "Python 2",
      "language": "python",
      "name": "python2"
    },
    "language_info": {
      "codemirror_mode": {
        "name": "ipython",
        "version": 2
      },
      "file_extension": ".py",
      "mimetype": "text/x-python",
      "name": "python",
      "nbconvert_exporter": "python",
      "pygments_lexer": "ipython2",
      "version": "2.7.5"
    },
    "dkuGit": {
      "gitReference": {
        "remote": "git@github.com:julienapesteguy/tests.git",
        "checkout": "main",
        "remotePath": "Custom report on predicted revenue.ipynb",
        "isDirty": false,
        "lastHash": "f4ffa0a655101aff52374f845365b19f8a329b74",
        "lastTimestamp": 1663170783000
      },
      "lastInteraction": 1663170785250
    },
    "creator": "julien.apesteguy@dataiku.com",
    "createdOn": 1663170694935,
    "tags": [],
    "customFields": {},
    "modifiedBy": "julien.apesteguy@dataiku.com"
  },
  "nbformat": 4,
  "nbformat_minor": 0,
  "cells": [
    {
      "execution_count": 2,
      "cell_type": "code",
      "metadata": {
        "collapsed": false
      },
      "source": [
        "import dataiku\n",
        "from dataiku import pandasutils as pdu\n",
        "import pandas as pd\n",
        "import sys\n",
        "from IPython.core.display import HTML\n",
        "from math import floor"
      ],
      "outputs": []
    },
    {
      "execution_count": 3,
      "cell_type": "code",
      "metadata": {
        "collapsed": false
      },
      "source": [
        "## Example: load a DDS dataset as a Pandas data frame\n",
        "mydataset \u003d dataiku.Dataset(\"revenue_prediction\")\n",
        "mydataset_df \u003d mydataset.get_dataframe()"
      ],
      "outputs": []
    },
    {
      "execution_count": 4,
      "cell_type": "code",
      "metadata": {
        "collapsed": false
      },
      "source": [
        "us_customers \u003d mydataset_df[mydataset_df.ip_country \u003d\u003d \u0027United States\u0027]"
      ],
      "outputs": []
    },
    {
      "execution_count": 30,
      "cell_type": "code",
      "metadata": {
        "collapsed": false
      },
      "source": [
        "HTML(\"\u003cul\u003e\"\n",
        "    + \"\u003cli\u003e Average revenue expected per american customer : $ %d\u003c/li\u003e\" % floor(us_customers.prediction.mean())\n",
        "    + \"\u003cli\u003eTotal revenue expected in the U.S. : $ %d\u003c/li\u003e\" % floor(us_customers.prediction.sum())\n",
        "    + \"\u003c/ul\u003e\"\n",
        "    )"
      ],
      "outputs": [
        {
          "data": {
            "text/html": [
              "\u003cul style\u003d\u0027font-size:1.5em;line-height:1.5em\u0027\u003e\u003cli\u003e Average revenue expected per american customer : $ 213\u003c/li\u003e\u003cli\u003eTotal revenue expected in the U.S. : $ 307773\u003c/li\u003e\u003c/ul\u003e"
            ],
            "text/plain": [
              "\u003cIPython.core.display.HTML object\u003e"
            ]
          },
          "execution_count": 30,
          "metadata": {},
          "output_type": "execute_result"
        }
      ]
    },
    {
      "execution_count": 0,
      "cell_type": "code",
      "metadata": {
        "collapsed": true
      },
      "source": [],
      "outputs": []
    }
  ]
}